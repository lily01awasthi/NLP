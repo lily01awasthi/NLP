{
 "cells": [
  {
   "cell_type": "code",
   "execution_count": 5,
   "metadata": {
    "collapsed": true
   },
   "outputs": [
    {
     "name": "stdout",
     "output_type": "stream",
     "text": [
      "The: DT\n",
      "cat: NN\n",
      "is: VBZ\n",
      "sitting: VBG\n",
      "on: IN\n",
      "the: DT\n",
      "mat: NN\n",
      ".: .\n"
     ]
    }
   ],
   "source": [
    "import nltk\n",
    "\n",
    "# Sentence to be POS tagged\n",
    "sentence = \"The cat is sitting on the mat.\"\n",
    "\n",
    "# Tokenize the sentence into words\n",
    "tokens = nltk.word_tokenize(sentence)\n",
    "\n",
    "# Perform POS tagging\n",
    "pos_tags = nltk.pos_tag(tokens)\n",
    "\n",
    "# Display the POS tags\n",
    "for word, tag in pos_tags:\n",
    "    print(f\"{word}: {tag}\")"
   ]
  },
  {
   "cell_type": "code",
   "execution_count": 8,
   "outputs": [
    {
     "name": "stdout",
     "output_type": "stream",
     "text": [
      "The bank can provide a loan.\n",
      "[('The', 'DT'), ('bank', 'NN'), ('can', 'MD'), ('provide', 'VB'), ('a', 'DT'), ('loan', 'NN'), ('.', '.')]\n",
      "I need to bank the money.\n",
      "[('I', 'PRP'), ('need', 'VBP'), ('to', 'TO'), ('bank', 'NN'), ('the', 'DT'), ('money', 'NN'), ('.', '.')]\n"
     ]
    }
   ],
   "source": [
    "#challenges with pos tagging\n",
    "#ambiguity\n",
    "import nltk\n",
    "\n",
    "sentence1 = \"The bank can provide a loan.\"\n",
    "sentence2 = \"I need to bank the money.\"\n",
    "tokens1 = nltk.word_tokenize(sentence1)\n",
    "pos_tags1 = nltk.pos_tag(tokens1)\n",
    "tokens2 = nltk.word_tokenize(sentence2)\n",
    "pos_tags2 = nltk.pos_tag(tokens2)\n",
    "\n",
    "print(sentence1)\n",
    "print(pos_tags1)\n",
    "print(sentence2)\n",
    "print(pos_tags2)"
   ],
   "metadata": {
    "collapsed": false,
    "pycharm": {
     "name": "#%%\n"
    }
   }
  },
  {
   "cell_type": "code",
   "execution_count": 11,
   "outputs": [
    {
     "name": "stdout",
     "output_type": "stream",
     "text": [
      "I love eating frozzles.\n",
      "[('I', 'PRP'), ('love', 'VBP'), ('eating', 'VBG'), ('frozzles', 'NNS'), ('.', '.')]\n"
     ]
    }
   ],
   "source": [
    "#words out of vocabulary\n",
    "import nltk\n",
    "\n",
    "sentence = \"I love eating frozzles.\"\n",
    "tokens = nltk.word_tokenize(sentence)\n",
    "pos_tags = nltk.pos_tag(tokens)\n",
    "\n",
    "print(sentence)\n",
    "print(pos_tags)"
   ],
   "metadata": {
    "collapsed": false,
    "pycharm": {
     "name": "#%%\n"
    }
   }
  },
  {
   "cell_type": "code",
   "execution_count": 12,
   "outputs": [
    {
     "name": "stdout",
     "output_type": "stream",
     "text": [
      "I have a pen and an apple.\n",
      "[('I', 'PRP'), ('have', 'VBP'), ('a', 'DT'), ('pen', 'NN'), ('and', 'CC'), ('an', 'DT'), ('apple', 'NN'), ('.', '.')]\n"
     ]
    }
   ],
   "source": [
    "#tagging error\n",
    "import nltk\n",
    "\n",
    "sentence = \"I have a pen and an apple.\"\n",
    "tokens = nltk.word_tokenize(sentence)\n",
    "pos_tags = nltk.pos_tag(tokens)\n",
    "\n",
    "print(sentence)\n",
    "print(pos_tags)"
   ],
   "metadata": {
    "collapsed": false,
    "pycharm": {
     "name": "#%%\n"
    }
   }
  },
  {
   "cell_type": "code",
   "execution_count": 14,
   "outputs": [
    {
     "name": "stdout",
     "output_type": "stream",
     "text": [
      "I saw a bat.\n",
      "[('I', 'PRP'), ('saw', 'VBD'), ('a', 'DT'), ('bat', 'NN'), ('.', '.')]\n"
     ]
    }
   ],
   "source": [
    "#lack of context\n",
    "import nltk\n",
    "\n",
    "sentence = \"I saw a bat.\"\n",
    "tokens = nltk.word_tokenize(sentence)\n",
    "pos_tags = nltk.pos_tag(tokens)\n",
    "\n",
    "print(sentence)\n",
    "print(pos_tags)"
   ],
   "metadata": {
    "collapsed": false,
    "pycharm": {
     "name": "#%%\n"
    }
   }
  },
  {
   "cell_type": "code",
   "execution_count": 15,
   "outputs": [
    {
     "name": "stdout",
     "output_type": "stream",
     "text": [
      "The band played at the band.\n",
      "[('The', 'DT'), ('band', 'NN'), ('played', 'VBD'), ('at', 'IN'), ('the', 'DT'), ('band', 'NN'), ('.', '.')]\n"
     ]
    }
   ],
   "source": [
    "#Homographs and Homonyms\n",
    "import nltk\n",
    "\n",
    "sentence = \"The band played at the band.\"\n",
    "tokens = nltk.word_tokenize(sentence)\n",
    "pos_tags = nltk.pos_tag(tokens)\n",
    "\n",
    "print(sentence)\n",
    "print(pos_tags)\n"
   ],
   "metadata": {
    "collapsed": false,
    "pycharm": {
     "name": "#%%\n"
    }
   }
  },
  {
   "cell_type": "code",
   "execution_count": 3,
   "outputs": [
    {
     "name": "stdout",
     "output_type": "stream",
     "text": [
      "PERSON: Apple\n",
      "ORGANIZATION: Inc.\n",
      "GPE: New York City\n"
     ]
    }
   ],
   "source": [
    "import nltk\n",
    "# Sentence to be NER tagged\n",
    "sentence = \"Apple Inc. is planning to open a new store in New York City.\"\n",
    "\n",
    "# Tokenize the sentence into words\n",
    "tokens = nltk.word_tokenize(sentence)\n",
    "\n",
    "# Perform NER tagging\n",
    "ner_tags = nltk.ne_chunk(nltk.pos_tag(tokens))\n",
    "\n",
    "# Display the NER tags\n",
    "for entity in ner_tags:\n",
    "    if hasattr(entity, 'label'):\n",
    "        print(f\"{entity.label()}: {' '.join(child[0] for child in entity)}\")\n"
   ],
   "metadata": {
    "collapsed": false,
    "pycharm": {
     "name": "#%%\n"
    }
   }
  },
  {
   "cell_type": "code",
   "execution_count": 3,
   "outputs": [
    {
     "name": "stdout",
     "output_type": "stream",
     "text": [
      "Precision: 0.8888888888888888\n",
      "Recall: 0.8888888888888888\n",
      "F1 Score: 0.8888888888888888\n"
     ]
    }
   ],
   "source": [
    "#NER evaluation with MUC\n",
    "def muc_evaluation(reference, predicted):\n",
    "    true_positives = 0\n",
    "    false_positives = 0\n",
    "    false_negatives = 0\n",
    "\n",
    "    for ref_entities, pred_entities in zip(reference, predicted):\n",
    "        ref_set = set(ref_entities)\n",
    "        pred_set = set(pred_entities)\n",
    "\n",
    "        for entity in pred_set:\n",
    "            if entity in ref_set:\n",
    "                true_positives += 1\n",
    "            else:\n",
    "                false_positives += 1\n",
    "\n",
    "        for entity in ref_set:\n",
    "            if entity not in pred_set:\n",
    "                false_negatives += 1\n",
    "\n",
    "    precision = true_positives / (true_positives + false_positives)\n",
    "    recall = true_positives / (true_positives + false_negatives)\n",
    "    f1_score = 2 * ((precision * recall) / (precision + recall))\n",
    "\n",
    "    return precision, recall, f1_score\n",
    "\n",
    "# Example usage\n",
    "reference = [\n",
    "    ['B-PER', 'I-PER', 'O', 'B-LOC', 'I-LOC'],\n",
    "    ['O', 'O', 'B-ORG', 'I-ORG', 'O', 'B-PER'],\n",
    "]\n",
    "\n",
    "predicted = [\n",
    "    ['B-PER', 'I-PER', 'O', 'B-LOC', 'I-LOC'],\n",
    "    ['O', 'O', 'B-ORG', 'I-ORG', 'O', 'B-LOC'],\n",
    "]\n",
    "\n",
    "precision, recall, f1_score = muc_evaluation(reference, predicted)\n",
    "\n",
    "print(\"Precision:\", precision)\n",
    "print(\"Recall:\", recall)\n",
    "print(\"F1 Score:\", f1_score)\n",
    "\n"
   ],
   "metadata": {
    "collapsed": false,
    "pycharm": {
     "name": "#%%\n"
    }
   }
  },
  {
   "cell_type": "code",
   "execution_count": null,
   "outputs": [],
   "source": [],
   "metadata": {
    "collapsed": false,
    "pycharm": {
     "name": "#%%\n"
    }
   }
  }
 ],
 "metadata": {
  "kernelspec": {
   "display_name": "Python 3",
   "language": "python",
   "name": "python3"
  },
  "language_info": {
   "codemirror_mode": {
    "name": "ipython",
    "version": 2
   },
   "file_extension": ".py",
   "mimetype": "text/x-python",
   "name": "python",
   "nbconvert_exporter": "python",
   "pygments_lexer": "ipython2",
   "version": "2.7.6"
  }
 },
 "nbformat": 4,
 "nbformat_minor": 0
}