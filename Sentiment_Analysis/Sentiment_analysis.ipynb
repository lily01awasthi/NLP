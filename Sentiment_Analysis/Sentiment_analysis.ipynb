{
 "cells": [
  {
   "cell_type": "code",
   "execution_count": 3,
   "metadata": {
    "collapsed": true
   },
   "outputs": [
    {
     "name": "stdout",
     "output_type": "stream",
     "text": [
      "Vocabulary:\n",
      "['don' 'great' 'is' 'like' 'love' 'movie' 'terrible' 'this']\n",
      "\n",
      "Bag-of-Words Matrix:\n",
      "[[0 0 0 0 1 1 0 1]\n",
      " [0 1 1 0 0 1 0 1]\n",
      " [1 0 0 1 0 1 0 1]\n",
      " [0 0 1 0 0 1 1 1]]\n"
     ]
    }
   ],
   "source": [
    "from sklearn.feature_extraction.text import CountVectorizer\n",
    "\n",
    "# Sample input documents\n",
    "documents = [\n",
    "    \"I love this movie\",\n",
    "    \"This movie is great\",\n",
    "    \"I don't like this movie\",\n",
    "    \"This movie is terrible\"\n",
    "]\n",
    "\n",
    "# Step 1: Create an instance of the CountVectorizer\n",
    "vectorizer = CountVectorizer()\n",
    "\n",
    "# Step 2: Fit the vectorizer on the documents and transform the documents into a bag-of-words matrix\n",
    "X = vectorizer.fit_transform(documents)\n",
    "\n",
    "# Step 3: Print the feature names (words in the vocabulary)\n",
    "feature_names = vectorizer.get_feature_names_out()\n",
    "print(\"Vocabulary:\")\n",
    "print(feature_names)\n",
    "\n",
    "# Step 4: Print the bag-of-words matrix\n",
    "print(\"\\nBag-of-Words Matrix:\")\n",
    "print(X.toarray())"
   ]
  },
  {
   "cell_type": "code",
   "execution_count": null,
   "outputs": [],
   "source": [],
   "metadata": {
    "collapsed": false,
    "pycharm": {
     "name": "#%%\n"
    }
   }
  }
 ],
 "metadata": {
  "kernelspec": {
   "display_name": "Python 3",
   "language": "python",
   "name": "python3"
  },
  "language_info": {
   "codemirror_mode": {
    "name": "ipython",
    "version": 2
   },
   "file_extension": ".py",
   "mimetype": "text/x-python",
   "name": "python",
   "nbconvert_exporter": "python",
   "pygments_lexer": "ipython2",
   "version": "2.7.6"
  }
 },
 "nbformat": 4,
 "nbformat_minor": 0
}