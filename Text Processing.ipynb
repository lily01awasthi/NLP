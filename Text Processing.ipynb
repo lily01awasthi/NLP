{
 "cells": [
  {
   "cell_type": "code",
   "execution_count": 8,
   "metadata": {
    "pycharm": {
     "name": "#%%\n"
    }
   },
   "outputs": [
    {
     "name": "stdout",
     "output_type": "stream",
     "text": [
      "['I', 'can', 't', 'believe', 'it', 's', 'raining', 'cats', 'and', 'dogs']\n"
     ]
    }
   ],
   "source": [
    "# Text processing with regular expressions : Tokenization\n",
    "import re\n",
    "text = \"I can't believe it's raining cats and dogs\"\n",
    "tokens = re.findall(r'\\w+|/s+', text)\n",
    "print(tokens)"
   ]
  },
  {
   "cell_type": "code",
   "execution_count": 9,
   "metadata": {
    "pycharm": {
     "name": "#%%"
    }
   },
   "outputs": [
    {
     "name": "stdout",
     "output_type": "stream",
     "text": [
      "rain\n"
     ]
    }
   ],
   "source": [
    "#Text processing with regular expressions : Lemmatization and Stemming\n",
    "import nltk\n",
    "from nltk.stem import WordNetLemmatizer\n",
    "word = \"raining\"\n",
    "wnl = WordNetLemmatizer()\n",
    "print(wnl.lemmatize(word, pos= 'v'))\n",
    "\n"
   ]
  },
  {
   "cell_type": "code",
   "execution_count": 10,
   "metadata": {},
   "outputs": [
    {
     "name": "stdout",
     "output_type": "stream",
     "text": [
      "hello, world!\n"
     ]
    }
   ],
   "source": [
    "# Text processing: Normalization by converting to lowercase\n",
    "text = \"Hello, World!\"\n",
    "normalized_text = text.lower()\n",
    "print(normalized_text)\n"
   ]
  },
  {
   "cell_type": "code",
   "execution_count": 11,
   "metadata": {},
   "outputs": [
    {
     "name": "stdout",
     "output_type": "stream",
     "text": [
      "Hello World\n"
     ]
    }
   ],
   "source": [
    "# Text processing: Normalization by Removing Punctuation\n",
    "import string\n",
    "text = \"Hello, World!\"\n",
    "normalized_text = text.translate(str.maketrans(\"\",\"\",string.punctuation))\n",
    "print(normalized_text)"
   ]
  },
  {
   "cell_type": "code",
   "execution_count": 12,
   "metadata": {},
   "outputs": [
    {
     "name": "stdout",
     "output_type": "stream",
     "text": [
      "let us say,I cannot believe it!\n"
     ]
    }
   ],
   "source": [
    "# Text processing: Normalization by handeling contractions\n",
    "import contractions\n",
    "\n",
    "text = \"let's say,I can't believe it!\"\n",
    "normalized_text = contractions.fix(text)\n",
    "print(normalized_text)"
   ]
  },
  {
   "cell_type": "code",
   "execution_count": 19,
   "metadata": {},
   "outputs": [
    {
     "name": "stdout",
     "output_type": "stream",
     "text": [
      "python code, contains stopwords\n"
     ]
    }
   ],
   "source": [
    "#Text processing: Normalization by Removing stopwords\n",
    "import nltk\n",
    "from nltk.corpus import stopwords\n",
    "# nltk.download('stopwords')\n",
    "\n",
    "text = \"This is a python code, It contains some stopwords\"\n",
    "stopwords_set = set(stopwords.words('english'))\n",
    "normalized_text = ' '.join(word for word in text.split() if word.lower() not in stopwords_set)\n",
    "print(normalized_text)"
   ]
  },
  {
   "cell_type": "code",
   "execution_count": null,
   "outputs": [],
   "source": [],
   "metadata": {
    "collapsed": false,
    "pycharm": {
     "name": "#%%\n"
    }
   }
  }
 ],
 "metadata": {
  "kernelspec": {
   "display_name": "Python 3",
   "language": "python",
   "name": "python3"
  },
  "language_info": {
   "codemirror_mode": {
    "name": "ipython",
    "version": 3
   },
   "file_extension": ".py",
   "mimetype": "text/x-python",
   "name": "python",
   "nbconvert_exporter": "python",
   "pygments_lexer": "ipython3",
   "version": "3.8.8"
  }
 },
 "nbformat": 4,
 "nbformat_minor": 1
}