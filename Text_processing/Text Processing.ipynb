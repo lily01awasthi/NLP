{
 "cells": [
  {
   "cell_type": "code",
   "execution_count": 22,
   "metadata": {
    "pycharm": {
     "name": "#%%\n"
    }
   },
   "outputs": [
    {
     "name": "stdout",
     "output_type": "stream",
     "text": [
      "['I', 'can', 't', 'believe', 'it', 's', 'raining', 'cats', 'and', 'dogs']\n"
     ]
    }
   ],
   "source": [
    "# Text processing with regular expressions : Tokenization\n",
    "import re\n",
    "text = \"I can't believe it's raining cats and dogs\"\n",
    "tokens = re.findall(r'\\w+|/s+', text)\n",
    "print(tokens)"
   ]
  },
  {
   "cell_type": "code",
   "execution_count": 23,
   "metadata": {
    "pycharm": {
     "name": "#%%"
    }
   },
   "outputs": [
    {
     "name": "stdout",
     "output_type": "stream",
     "text": [
      "rain\n"
     ]
    }
   ],
   "source": [
    "#Text processing with regular expressions : Lemmatization and Stemming\n",
    "import nltk\n",
    "from nltk.stem import WordNetLemmatizer\n",
    "word = \"raining\"\n",
    "wnl = WordNetLemmatizer()\n",
    "print(wnl.lemmatize(word, pos= 'v'))\n",
    "\n"
   ]
  },
  {
   "cell_type": "code",
   "execution_count": 24,
   "metadata": {},
   "outputs": [
    {
     "name": "stdout",
     "output_type": "stream",
     "text": [
      "hello, world!\n"
     ]
    }
   ],
   "source": [
    "# Text processing: Normalization by converting to lowercase\n",
    "text = \"Hello, World!\"\n",
    "normalized_text = text.lower()\n",
    "print(normalized_text)\n"
   ]
  },
  {
   "cell_type": "code",
   "execution_count": 25,
   "metadata": {},
   "outputs": [
    {
     "name": "stdout",
     "output_type": "stream",
     "text": [
      "Hello World\n"
     ]
    }
   ],
   "source": [
    "# Text processing: Normalization by Removing Punctuation\n",
    "import string\n",
    "text = \"Hello, World!\"\n",
    "normalized_text = text.translate(str.maketrans(\"\",\"\",string.punctuation))\n",
    "print(normalized_text)"
   ]
  },
  {
   "cell_type": "code",
   "execution_count": 26,
   "metadata": {},
   "outputs": [
    {
     "name": "stdout",
     "output_type": "stream",
     "text": [
      "let us say,I cannot believe it!\n"
     ]
    }
   ],
   "source": [
    "# Text processing: Normalization by handeling contractions\n",
    "import contractions\n",
    "\n",
    "text = \"let's say,I can't believe it!\"\n",
    "normalized_text = contractions.fix(text)\n",
    "print(normalized_text)"
   ]
  },
  {
   "cell_type": "code",
   "execution_count": 27,
   "metadata": {},
   "outputs": [
    {
     "name": "stdout",
     "output_type": "stream",
     "text": [
      "python code, contains stopwords\n"
     ]
    }
   ],
   "source": [
    "#Text processing: Normalization by Removing stopwords\n",
    "import nltk\n",
    "from nltk.corpus import stopwords\n",
    "# nltk.download('stopwords')\n",
    "\n",
    "text = \"This is a python code, It contains some stopwords\"\n",
    "stopwords_set = set(stopwords.words('english'))\n",
    "normalized_text = ' '.join(word for word in text.split() if word.lower() not in stopwords_set)\n",
    "print(normalized_text)"
   ]
  },
  {
   "cell_type": "code",
   "execution_count": 28,
   "outputs": [
    {
     "name": "stdout",
     "output_type": "stream",
     "text": [
      "I have NUM coins, NUM of NUM euros and NUM of NUM euro!\n"
     ]
    }
   ],
   "source": [
    "#Text processing: Normalization by Handeling Numeric Data\n",
    "text = \"I have 3 coins, 2 of 2 euros and 1 of 1 euro!\"\n",
    "normalized_text = re.sub(r'\\d+', 'NUM' ,text )\n",
    "print(normalized_text)"
   ],
   "metadata": {
    "collapsed": false,
    "pycharm": {
     "name": "#%%\n"
    }
   }
  },
  {
   "cell_type": "code",
   "execution_count": 31,
   "outputs": [
    {
     "name": "stdout",
     "output_type": "stream",
     "text": [
      "5\n"
     ]
    }
   ],
   "source": [
    "#Text Processing : Minimal Editing Distance (med)\n",
    "def min_edit_distance(s1, s2):\n",
    "    m = len(s1)\n",
    "    n = len(s2)\n",
    "\n",
    "    # Initialize the matrix\n",
    "    matrix = [[0] * (n + 1) for _ in range(m + 1)]\n",
    "\n",
    "    # Initialize the first row and column\n",
    "    for i in range(m + 1):\n",
    "        matrix[i][0] = i\n",
    "    for j in range(n + 1):\n",
    "        matrix[0][j] = j\n",
    "\n",
    "    # Compute the minimal edit distance\n",
    "    for i in range(1, m + 1):\n",
    "        for j in range(1, n + 1):\n",
    "            if s1[i - 1] == s2[j - 1]:\n",
    "                matrix[i][j] = matrix[i - 1][j - 1]\n",
    "            else:\n",
    "                matrix[i][j] = min(\n",
    "                    matrix[i - 1][j],  # Deletion\n",
    "                    matrix[i][j - 1],  # Insertion\n",
    "                    matrix[i - 1][j - 1]  # Substitution\n",
    "                ) + 1\n",
    "\n",
    "    return matrix[m][n]\n",
    "A = \"Intention\"\n",
    "B = \"Execution\"\n",
    "print(min_edit_distance(A,B))"
   ],
   "metadata": {
    "collapsed": false,
    "pycharm": {
     "name": "#%%\n"
    }
   }
  },
  {
   "cell_type": "code",
   "execution_count": 62,
   "outputs": [
    {
     "name": "stdout",
     "output_type": "stream",
     "text": [
      "dogs too .\n"
     ]
    }
   ],
   "source": [
    "#Text Processing : N-gram language model\n",
    "import nltk\n",
    "from nltk import ngrams\n",
    "from nltk.lm import MLE\n",
    "from nltk.tokenize import word_tokenize\n",
    "\n",
    "# Prepare corpus\n",
    "corpus = \"I love cats. Cats are cute. I love dogs too.\"\n",
    "tokenized_corpus = [list(map(str.lower, word_tokenize(sent))) for sent in nltk.sent_tokenize(corpus)]\n",
    "\n",
    "# # Generate trigrams\n",
    "n = 3\n",
    "# trigrams = list(ngrams(tokenized_corpus, n))\n",
    "\n",
    "# Create the Train and Vocab object\n",
    "from nltk.lm.preprocessing import padded_everygram_pipeline\n",
    "train, vocab = padded_everygram_pipeline(n, tokenized_corpus)\n",
    "\n",
    "# Build N-gram language model\n",
    "ngram_model = MLE(n)\n",
    "ngram_model.fit(train,vocab)\n",
    "\n",
    "# Generate text using the language model\n",
    "prefix = [\"I\", \"love\"]\n",
    "generated_text = ngram_model.generate(n, prefix)\n",
    "print(' '.join(generated_text))"
   ],
   "metadata": {
    "collapsed": false,
    "pycharm": {
     "name": "#%%\n"
    }
   }
  },
  {
   "cell_type": "code",
   "execution_count": 72,
   "outputs": [
    {
     "name": "stdout",
     "output_type": "stream",
     "text": [
      "0.15384615384615385\n"
     ]
    }
   ],
   "source": [
    "#Text Processing NLP: Smoothing\n",
    "#Add-k Smoothing (Laplace Smoothing):\n",
    "import nltk\n",
    "from nltk.util import ngrams\n",
    "from nltk.lm import Laplace\n",
    "\n",
    "# Prepare corpus\n",
    "corpus = \"I love cats. Cats are cute. I love dogs too.\"\n",
    "tokenized_corpus = [list(map(str.lower, nltk.word_tokenize(sent))) for sent in nltk.sent_tokenize(corpus)]\n",
    "\n",
    "# # Generate trigrams\n",
    "n = 3\n",
    "\n",
    "# Create the Train and Vocab object\n",
    "from nltk.lm.preprocessing import padded_everygram_pipeline\n",
    "train, vocab = padded_everygram_pipeline(n, tokenized_corpus)\n",
    "\n",
    "# Build N-gram language model with add - k smoothing\n",
    "ngram_model = Laplace(n)\n",
    "ngram_model.fit(train,vocab)\n",
    "\n",
    "# Calculate probability using the language model\n",
    "context = [\"i\", \"love\"]\n",
    "word = \"cats\"\n",
    "probability = ngram_model.score(word, context)\n",
    "print(probability)\n",
    "\n"
   ],
   "metadata": {
    "collapsed": false,
    "pycharm": {
     "name": "#%%\n"
    }
   }
  }
 ],
 "metadata": {
  "kernelspec": {
   "display_name": "Python 3",
   "language": "python",
   "name": "python3"
  },
  "language_info": {
   "codemirror_mode": {
    "name": "ipython",
    "version": 3
   },
   "file_extension": ".py",
   "mimetype": "text/x-python",
   "name": "python",
   "nbconvert_exporter": "python",
   "pygments_lexer": "ipython3",
   "version": "3.8.8"
  }
 },
 "nbformat": 4,
 "nbformat_minor": 1
}